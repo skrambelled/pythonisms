{
 "metadata": {
  "language_info": {
   "codemirror_mode": {
    "name": "ipython",
    "version": 3
   },
   "file_extension": ".py",
   "mimetype": "text/x-python",
   "name": "python",
   "nbconvert_exporter": "python",
   "pygments_lexer": "ipython3",
   "version": "3.9.0-final"
  },
  "orig_nbformat": 2,
  "kernelspec": {
   "name": "python39064bitvenvvenv7d7f369e83524a41b706dbafa1905ac5",
   "display_name": "Python 3.9.0 64-bit ('.venv': venv)",
   "language": "python"
  }
 },
 "nbformat": 4,
 "nbformat_minor": 2,
 "cells": [
  {
   "source": [
    "# Pythonisms\n",
    "\n",
    "Python is full of cool ways to leverage the language to your advantage, which we call pythonisms."
   ],
   "cell_type": "markdown",
   "metadata": {}
  },
  {
   "source": [
    "Lets implement an linked list with a few magic methods.\n",
    "\n",
    "We can iterate through this linked list using __iter__()\n",
    "\n",
    "We can use the binary `+` operator to add two linked lists together via __add__()\n",
    "\n",
    "We can index a linked list using the `__getitem__()` method\n",
    "\n",
    "And we can also use the builtin `len()` function on a linked list."
   ],
   "cell_type": "markdown",
   "metadata": {}
  },
  {
   "cell_type": "code",
   "execution_count": 71,
   "metadata": {},
   "outputs": [],
   "source": [
    "# First we need a Node class\n",
    "class Node:\n",
    "    \"\"\"\n",
    "    A node class to support a LinkedList class\n",
    "    self.next - points to the next Node in the chain, None by default\n",
    "    self.value - holds the value assigned to this node, None by default\n",
    "    \"\"\"\n",
    "    def __init__(self, value=None, next_=None):\n",
    "        self.value = value\n",
    "        self.next = next_\n",
    "\n",
    "    def __str__(self):\n",
    "        return f'{ self.value }'"
   ]
  },
  {
   "cell_type": "code",
   "execution_count": 72,
   "metadata": {},
   "outputs": [],
   "source": [
    "class LinkedList:\n",
    "    \"\"\"\n",
    "    Iterable Linked list\n",
    "    \"\"\"\n",
    "    def __init__(self, head=None):\n",
    "        self.head = head\n",
    "        self.size = 1 if head else 0\n",
    "\n",
    "    def __str__(self):\n",
    "        output = \"\"\n",
    "\n",
    "        for node in self:\n",
    "            output += '{ ' + str(node) + ' } -> '\n",
    "        current = self.head\n",
    "        while current:\n",
    "            current = current.next\n",
    "        output += 'NULL'\n",
    "        return output\n",
    "\n",
    "    def __iter__(self):\n",
    "        def generator():\n",
    "            current = self.head\n",
    "            while current:\n",
    "                yield current\n",
    "                current = current.next\n",
    "\n",
    "        return generator()\n",
    "\n",
    "    def __add__(self, other):\n",
    "        if not self.head:\n",
    "          self.head = other.head\n",
    "        else:\n",
    "            current = self.head\n",
    "            while current.next:\n",
    "                current = current.next\n",
    "            current.next = other.head\n",
    "\n",
    "        self.size += len(other)\n",
    "        return self\n",
    "    \n",
    "    def __len__(self):\n",
    "        return self.size\n",
    "\n",
    "    def __getitem__(self, index):\n",
    "        if index < 0:\n",
    "            raise IndexError(f'Index {i} out of range for {self}')\n",
    "\n",
    "        for i, node in enumerate(self):\n",
    "            if i == index:\n",
    "                return node \n",
    "        \n",
    "        raise IndexError(f'Index {i} out of range for {self}')\n",
    "\n",
    "\n",
    "    def insert(self, value):\n",
    "        self.head = Node(value, self.head)\n",
    "        self.size += 1\n",
    "\n",
    "    def append(self, value):\n",
    "        node = Node(value)\n",
    "        current = self.head\n",
    "        if not current:\n",
    "            self.head = node\n",
    "            self.size += 1\n",
    "            return\n",
    "\n",
    "        while(current.next):\n",
    "            current = current.next\n",
    "        current.next = node\n",
    "        self.size += 1"
   ]
  },
  {
   "cell_type": "code",
   "execution_count": 73,
   "metadata": {},
   "outputs": [
    {
     "output_type": "stream",
     "name": "stdout",
     "text": [
      "{ 0 } -> { 1 } -> { 2 } -> { 3 } -> { 4 } -> { 5 } -> { 6 } -> { 7 } -> { 8 } -> { 9 } -> NULL\n"
     ]
    }
   ],
   "source": [
    "ll = LinkedList()\n",
    "\n",
    "for i in range(10):\n",
    "    ll.append(i)\n",
    "\n",
    "print(ll)"
   ]
  },
  {
   "cell_type": "code",
   "execution_count": 74,
   "metadata": {},
   "outputs": [
    {
     "output_type": "stream",
     "name": "stdout",
     "text": [
      "0\n1\n2\n3\n4\n5\n6\n7\n8\n9\n"
     ]
    }
   ],
   "source": [
    "for n in ll:\n",
    "    print(n)"
   ]
  },
  {
   "cell_type": "code",
   "execution_count": 75,
   "metadata": {},
   "outputs": [
    {
     "output_type": "stream",
     "name": "stdout",
     "text": [
      "0\n1\n2\n3\n4\n5\n6\n7\n8\n9\n"
     ]
    }
   ],
   "source": [
    "for node in list(ll):\n",
    "    print(node.value)"
   ]
  },
  {
   "cell_type": "code",
   "execution_count": 76,
   "metadata": {},
   "outputs": [
    {
     "output_type": "stream",
     "name": "stdout",
     "text": [
      "{ 0 } -> { 1 } -> { 2 } -> { 3 } -> { 4 } -> { 5 } -> { 6 } -> { 7 } -> { 8 } -> { 9 } -> { 10 } -> { 11 } -> { 12 } -> { 13 } -> { 14 } -> { 15 } -> { 16 } -> { 17 } -> { 18 } -> { 19 } -> NULL\n"
     ]
    }
   ],
   "source": [
    "ll2 = LinkedList()\n",
    "\n",
    "for i in range(10,20):\n",
    "  ll2.append(i)\n",
    "\n",
    "ll = ll + ll2\n",
    "\n",
    "print(ll)\n",
    "\n",
    "assert len(ll) == 20"
   ]
  },
  {
   "cell_type": "code",
   "execution_count": 78,
   "metadata": {},
   "outputs": [],
   "source": [
    "assert ll[2].value == 2"
   ]
  }
 ]
}